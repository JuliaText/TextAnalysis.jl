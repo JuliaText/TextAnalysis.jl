{
 "cells": [
  {
   "cell_type": "markdown",
   "metadata": {},
   "source": [
    "## CONVERSION FROM TENSORFLOW TO BSON"
   ]
  },
  {
   "cell_type": "code",
   "execution_count": 1,
   "metadata": {
    "scrolled": true
   },
   "outputs": [
    {
     "name": "stderr",
     "output_type": "stream",
     "text": [
      "┌ Info: CUDAdrv.jl failed to initialize, GPU functionality unavailable (set JULIA_CUDA_SILENT or JULIA_CUDA_VERBOSE to silence or expand this message)\n",
      "└ @ CUDAdrv /home/iamtejas/.julia/packages/CUDAdrv/mCr0O/src/CUDAdrv.jl:69\n",
      "┌ Info: Recompiling stale cache file /home/iamtejas/.julia/compiled/v1.0/TextAnalysis/5Mwet.ji for TextAnalysis [a2db99b7-8b79-58f8-94bf-bbc811eef33d]\n",
      "└ @ Base loading.jl:1190\n",
      "┌ Warning: Package TextAnalysis does not have Requires in its dependencies:\n",
      "│ - If you have TextAnalysis checked out for development and have\n",
      "│   added Requires as a dependency but haven't updated your primary\n",
      "│   environment's manifest file, try `Pkg.resolve()`.\n",
      "│ - Otherwise you may need to report an issue with TextAnalysis\n",
      "└ Loading Requires into TextAnalysis from project dependency, future warnings for TextAnalysis are suppressed.\n",
      "WARNING: Method definition _pullback(Zygote.Context, typeof(Flux.onehot), Any...) in module Flux at /home/iamtejas/.julia/packages/Zygote/wkc82/src/lib/grad.jl:14 overwritten in module Basic at /home/iamtejas/.julia/packages/Zygote/wkc82/src/lib/grad.jl:14.\n"
     ]
    }
   ],
   "source": [
    "using TensorFlow\n",
    "using Flux\n",
    "using TextAnalysis"
   ]
  },
  {
   "cell_type": "code",
   "execution_count": 2,
   "metadata": {
    "collapsed": true
   },
   "outputs": [],
   "source": [
    "using TextAnalysis.ALBERT"
   ]
  },
  {
   "cell_type": "code",
   "execution_count": 3,
   "metadata": {},
   "outputs": [
    {
     "name": "stderr",
     "output_type": "stream",
     "text": [
      "2020-04-06 23:10:04.229049: W tensorflow/core/framework/allocator.cc:124] Allocation of 67108864 exceeds 10% of system memory.\n",
      "2020-04-06 23:10:05.976041: W tensorflow/core/framework/allocator.cc:124] Allocation of 67108864 exceeds 10% of system memory.\n"
     ]
    },
    {
     "data": {
      "text/plain": [
       "\"albert_xlarge_v1.tfbson\""
      ]
     },
     "execution_count": 3,
     "metadata": {},
     "output_type": "execute_result"
    }
   ],
   "source": [
    "tfckpt2bsonforalbert(\"/home/iamtejas/Downloads/albert_xlarge_v1\"; raw = true)"
   ]
  },
  {
   "cell_type": "markdown",
   "metadata": {},
   "source": [
    "finally we have bson file from Google release Tensorflow checkpoint"
   ]
  },
  {
   "cell_type": "code",
   "execution_count": null,
   "metadata": {
    "collapsed": true
   },
   "outputs": [],
   "source": []
  }
 ],
 "metadata": {
  "kernelspec": {
   "display_name": "Julia 1.0.5",
   "language": "julia",
   "name": "julia-1.0"
  },
  "language_info": {
   "file_extension": ".jl",
   "mimetype": "application/julia",
   "name": "julia",
   "version": "1.0.5"
  }
 },
 "nbformat": 4,
 "nbformat_minor": 2
}
